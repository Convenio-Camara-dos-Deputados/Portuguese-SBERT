{
 "cells": [
  {
   "cell_type": "code",
   "execution_count": 2,
   "id": "3c6e5cbf",
   "metadata": {},
   "outputs": [],
   "source": [
    "from sentence_transformers import SentenceTransformer, SentencesDataset, util, SentencesDataset, InputExample, losses\n",
    "from torch.utils.data import DataLoader\n",
    "import torch\n",
    "import numpy as np"
   ]
  },
  {
   "cell_type": "code",
   "execution_count": 2,
   "id": "fbd99635",
   "metadata": {},
   "outputs": [],
   "source": [
    "model_untuned = SentenceTransformer(\"neuralmind/bert-base-portuguese-cased\")\n",
    "model_tuned = SentenceTransformer(\"../tuning/model/\")"
   ]
  },
  {
   "cell_type": "markdown",
   "id": "4455eb33",
   "metadata": {},
   "source": [
    "# 1. Fine-tuning\n",
    "\n",
    "## 1.1 Preparação dos dados"
   ]
  },
  {
   "cell_type": "code",
   "execution_count": 3,
   "id": "3ed55197",
   "metadata": {},
   "outputs": [],
   "source": [
    "import pandas as pd\n",
    "\n",
    "arvore_proposicoes = pd.read_csv(\"../data/arvore-proposicoes.csv\", encoding=\"utf-8\")\n",
    "df_2019 = pd.read_csv(\"../data/proposicao-tema-completo-sem-duplicado-2019-all-fields.csv\")\n",
    "df_assunto = pd.read_csv(\"../data/pesquisas.csv\", encoding=\"utf-8\", delimiter=\";\")"
   ]
  },
  {
   "cell_type": "code",
   "execution_count": 4,
   "id": "8a78f14b",
   "metadata": {},
   "outputs": [
    {
     "name": "stdout",
     "output_type": "stream",
     "text": [
      "(3698, 13)\n"
     ]
    },
    {
     "data": {
      "text/html": [
       "<div>\n",
       "<style scoped>\n",
       "    .dataframe tbody tr th:only-of-type {\n",
       "        vertical-align: middle;\n",
       "    }\n",
       "\n",
       "    .dataframe tbody tr th {\n",
       "        vertical-align: top;\n",
       "    }\n",
       "\n",
       "    .dataframe thead th {\n",
       "        text-align: right;\n",
       "    }\n",
       "</style>\n",
       "<table border=\"1\" class=\"dataframe\">\n",
       "  <thead>\n",
       "    <tr style=\"text-align: right;\">\n",
       "      <th></th>\n",
       "      <th>codProposicao</th>\n",
       "      <th>txtNome</th>\n",
       "      <th>txtEmenta</th>\n",
       "      <th>txtExplicacaoEmenta</th>\n",
       "      <th>txtIndexacao</th>\n",
       "      <th>imgArquivoTeorPDF</th>\n",
       "      <th>idTema</th>\n",
       "      <th>txtProposicaoComJustificacao</th>\n",
       "      <th>txtProposicaoSemJustificacao</th>\n",
       "      <th>txtJustificacao</th>\n",
       "      <th>txtEmentaProposicaoSemJustificacao</th>\n",
       "      <th>txtEmentaKeywords</th>\n",
       "      <th>txtEmentaProposicaoSemJustificacaoKeywords</th>\n",
       "    </tr>\n",
       "  </thead>\n",
       "  <tbody>\n",
       "    <tr>\n",
       "      <th>1</th>\n",
       "      <td>317970</td>\n",
       "      <td>PL 2037/2019                                  ...</td>\n",
       "      <td>Altera a Lei nº 8.666, de 21 de junho de 1993,...</td>\n",
       "      <td>...</td>\n",
       "      <td>Alteração, Lei das Licitações, proibição, ante...</td>\n",
       "      <td>PROJETO DE LEI No               , DE 2006\\r\\n(...</td>\n",
       "      <td>34</td>\n",
       "      <td>O CONGRESSO NACIONAL decreta:\\r\\nArt. 1º  A a...</td>\n",
       "      <td>O CONGRESSO NACIONAL decreta:\\r\\nArt. 1º  A a...</td>\n",
       "      <td>JUSTIFICAÇÃO\\r\\nConsoante investigações promo...</td>\n",
       "      <td>\"Altera a Lei nº 8.666, de 21 de junho de 1993...</td>\n",
       "      <td>\"Altera a Lei nº 8.666, de 21 de junho de 1993...</td>\n",
       "      <td>\"Altera a Lei nº 8.666, de 21 de junho de 1993...</td>\n",
       "    </tr>\n",
       "    <tr>\n",
       "      <th>2</th>\n",
       "      <td>427339</td>\n",
       "      <td>PL 2439/2019                                  ...</td>\n",
       "      <td>Altera o art. 125 da Lei nº 9.279, de 14 de ma...</td>\n",
       "      <td>...</td>\n",
       "      <td>Alteração, Nova Lei de Patentes, critérios, re...</td>\n",
       "      <td>PROJETO DE LEI No             , DE 2009\\r\\n(Do...</td>\n",
       "      <td>66</td>\n",
       "      <td>O CONGRESSO NACIONAL decreta:\\r\\nArt. 1º O ar...</td>\n",
       "      <td>O CONGRESSO NACIONAL decreta:\\r\\nArt. 1º O ar...</td>\n",
       "      <td>JUSTIFICAÇÃO\\r\\nO antigo Código da Propriedad...</td>\n",
       "      <td>\"Altera o art. 125 da Lei nº 9.279, de 14 de m...</td>\n",
       "      <td>\"Altera o art. 125 da Lei nº 9.279, de 14 de m...</td>\n",
       "      <td>\"Altera o art. 125 da Lei nº 9.279, de 14 de m...</td>\n",
       "    </tr>\n",
       "    <tr>\n",
       "      <th>3</th>\n",
       "      <td>501638</td>\n",
       "      <td>PL 402/2019 (                                 ...</td>\n",
       "      <td>Institui o Programa Cidade Amiga do Idoso.    ...</td>\n",
       "      <td>...</td>\n",
       "      <td>Criação, Programa Cidade Amiga do Idoso, quali...</td>\n",
       "      <td>PROJETO DE LEI no       , DE 2011 \\r\\n(Do Sr. ...</td>\n",
       "      <td>44</td>\n",
       "      <td>O CONGRESSO NACIONAL decreta: \\r\\nArt. 1º Fic...</td>\n",
       "      <td>O CONGRESSO NACIONAL decreta: \\r\\nArt. 1º Fic...</td>\n",
       "      <td>JUSTIFICAÇÃO \\r\\nAs pessoas idosas em nosso p...</td>\n",
       "      <td>\"Institui o Programa Cidade Amiga do Idoso.   ...</td>\n",
       "      <td>\"Institui o Programa Cidade Amiga do Idoso.   ...</td>\n",
       "      <td>\"Institui o Programa Cidade Amiga do Idoso.   ...</td>\n",
       "    </tr>\n",
       "    <tr>\n",
       "      <th>4</th>\n",
       "      <td>512431</td>\n",
       "      <td>PL 2442/2019                                  ...</td>\n",
       "      <td>Proíbe a utilização de mensagens subliminares ...</td>\n",
       "      <td>Altera a Lei nº 4.117, de 1962                ...</td>\n",
       "      <td>Alteração, Código Brasileiro de Telecomunicaçõ...</td>\n",
       "      <td>\\r\\n \\r\\nCÂMARA DOS DEPUTADOS \\r\\n \\r\\nPROJET...</td>\n",
       "      <td>37</td>\n",
       "      <td>O CONGRESSO NACIONAL decreta: \\r\\n \\r\\nArt. 1...</td>\n",
       "      <td>O CONGRESSO NACIONAL decreta: \\r\\n \\r\\nArt. 1...</td>\n",
       "      <td>JUSTIFICAÇÃO \\r\\nAs emissoras de radiodifusão...</td>\n",
       "      <td>\"Proíbe a utilização de mensagens subliminares...</td>\n",
       "      <td>\"Proíbe a utilização de mensagens subliminares...</td>\n",
       "      <td>\"Proíbe a utilização de mensagens subliminares...</td>\n",
       "    </tr>\n",
       "    <tr>\n",
       "      <th>5</th>\n",
       "      <td>530357</td>\n",
       "      <td>PL 2440/2019                                  ...</td>\n",
       "      <td>Obriga os fabricantes de aparelho celular a di...</td>\n",
       "      <td>...</td>\n",
       "      <td>Obrigatoriedade, fabricante, assistência técni...</td>\n",
       "      <td>PROJETO DE LEI Nº      , DE 2011 \\r\\n(Da Sra. ...</td>\n",
       "      <td>67</td>\n",
       "      <td>O CONGRESSO NACIONAL decreta: \\r\\nArt. 1º Est...</td>\n",
       "      <td>O CONGRESSO NACIONAL decreta: \\r\\nArt. 1º Est...</td>\n",
       "      <td>JUSTIFICAÇÃO \\r\\nO Código de Defesa do Consum...</td>\n",
       "      <td>\"Obriga os fabricantes de aparelho celular a d...</td>\n",
       "      <td>\"Obriga os fabricantes de aparelho celular a d...</td>\n",
       "      <td>\"Obriga os fabricantes de aparelho celular a d...</td>\n",
       "    </tr>\n",
       "  </tbody>\n",
       "</table>\n",
       "</div>"
      ],
      "text/plain": [
       "     codProposicao                                            txtNome  \\\n",
       "1  317970           PL 2037/2019                                  ...   \n",
       "2  427339           PL 2439/2019                                  ...   \n",
       "3  501638           PL 402/2019 (                                 ...   \n",
       "4  512431           PL 2442/2019                                  ...   \n",
       "5  530357           PL 2440/2019                                  ...   \n",
       "\n",
       "                                           txtEmenta  \\\n",
       "1  Altera a Lei nº 8.666, de 21 de junho de 1993,...   \n",
       "2  Altera o art. 125 da Lei nº 9.279, de 14 de ma...   \n",
       "3  Institui o Programa Cidade Amiga do Idoso.    ...   \n",
       "4  Proíbe a utilização de mensagens subliminares ...   \n",
       "5  Obriga os fabricantes de aparelho celular a di...   \n",
       "\n",
       "                                 txtExplicacaoEmenta  \\\n",
       "1                                                ...   \n",
       "2                                                ...   \n",
       "3                                                ...   \n",
       "4  Altera a Lei nº 4.117, de 1962                ...   \n",
       "5                                                ...   \n",
       "\n",
       "                                        txtIndexacao  \\\n",
       "1  Alteração, Lei das Licitações, proibição, ante...   \n",
       "2  Alteração, Nova Lei de Patentes, critérios, re...   \n",
       "3  Criação, Programa Cidade Amiga do Idoso, quali...   \n",
       "4  Alteração, Código Brasileiro de Telecomunicaçõ...   \n",
       "5  Obrigatoriedade, fabricante, assistência técni...   \n",
       "\n",
       "                                   imgArquivoTeorPDF           idTema  \\\n",
       "1  PROJETO DE LEI No               , DE 2006\\r\\n(...  34                \n",
       "2  PROJETO DE LEI No             , DE 2009\\r\\n(Do...  66                \n",
       "3  PROJETO DE LEI no       , DE 2011 \\r\\n(Do Sr. ...  44                \n",
       "4   \\r\\n \\r\\nCÂMARA DOS DEPUTADOS \\r\\n \\r\\nPROJET...  37                \n",
       "5  PROJETO DE LEI Nº      , DE 2011 \\r\\n(Da Sra. ...  67                \n",
       "\n",
       "                        txtProposicaoComJustificacao  \\\n",
       "1   O CONGRESSO NACIONAL decreta:\\r\\nArt. 1º  A a...   \n",
       "2   O CONGRESSO NACIONAL decreta:\\r\\nArt. 1º O ar...   \n",
       "3   O CONGRESSO NACIONAL decreta: \\r\\nArt. 1º Fic...   \n",
       "4   O CONGRESSO NACIONAL decreta: \\r\\n \\r\\nArt. 1...   \n",
       "5   O CONGRESSO NACIONAL decreta: \\r\\nArt. 1º Est...   \n",
       "\n",
       "                        txtProposicaoSemJustificacao  \\\n",
       "1   O CONGRESSO NACIONAL decreta:\\r\\nArt. 1º  A a...   \n",
       "2   O CONGRESSO NACIONAL decreta:\\r\\nArt. 1º O ar...   \n",
       "3   O CONGRESSO NACIONAL decreta: \\r\\nArt. 1º Fic...   \n",
       "4   O CONGRESSO NACIONAL decreta: \\r\\n \\r\\nArt. 1...   \n",
       "5   O CONGRESSO NACIONAL decreta: \\r\\nArt. 1º Est...   \n",
       "\n",
       "                                     txtJustificacao  \\\n",
       "1   JUSTIFICAÇÃO\\r\\nConsoante investigações promo...   \n",
       "2   JUSTIFICAÇÃO\\r\\nO antigo Código da Propriedad...   \n",
       "3   JUSTIFICAÇÃO \\r\\nAs pessoas idosas em nosso p...   \n",
       "4   JUSTIFICAÇÃO \\r\\nAs emissoras de radiodifusão...   \n",
       "5   JUSTIFICAÇÃO \\r\\nO Código de Defesa do Consum...   \n",
       "\n",
       "                  txtEmentaProposicaoSemJustificacao  \\\n",
       "1  \"Altera a Lei nº 8.666, de 21 de junho de 1993...   \n",
       "2  \"Altera o art. 125 da Lei nº 9.279, de 14 de m...   \n",
       "3  \"Institui o Programa Cidade Amiga do Idoso.   ...   \n",
       "4  \"Proíbe a utilização de mensagens subliminares...   \n",
       "5  \"Obriga os fabricantes de aparelho celular a d...   \n",
       "\n",
       "                                   txtEmentaKeywords  \\\n",
       "1  \"Altera a Lei nº 8.666, de 21 de junho de 1993...   \n",
       "2  \"Altera o art. 125 da Lei nº 9.279, de 14 de m...   \n",
       "3  \"Institui o Programa Cidade Amiga do Idoso.   ...   \n",
       "4  \"Proíbe a utilização de mensagens subliminares...   \n",
       "5  \"Obriga os fabricantes de aparelho celular a d...   \n",
       "\n",
       "          txtEmentaProposicaoSemJustificacaoKeywords  \n",
       "1  \"Altera a Lei nº 8.666, de 21 de junho de 1993...  \n",
       "2  \"Altera o art. 125 da Lei nº 9.279, de 14 de m...  \n",
       "3  \"Institui o Programa Cidade Amiga do Idoso.   ...  \n",
       "4  \"Proíbe a utilização de mensagens subliminares...  \n",
       "5  \"Obriga os fabricantes de aparelho celular a d...  "
      ]
     },
     "execution_count": 4,
     "metadata": {},
     "output_type": "execute_result"
    }
   ],
   "source": [
    "df_2019.dropna(inplace=True)\n",
    "print(df_2019.shape)\n",
    "df_2019.head()"
   ]
  },
  {
   "cell_type": "code",
   "execution_count": 5,
   "id": "c9f29d72",
   "metadata": {
    "scrolled": true
   },
   "outputs": [
    {
     "data": {
      "text/html": [
       "<div>\n",
       "<style scoped>\n",
       "    .dataframe tbody tr th:only-of-type {\n",
       "        vertical-align: middle;\n",
       "    }\n",
       "\n",
       "    .dataframe tbody tr th {\n",
       "        vertical-align: top;\n",
       "    }\n",
       "\n",
       "    .dataframe thead th {\n",
       "        text-align: right;\n",
       "    }\n",
       "</style>\n",
       "<table border=\"1\" class=\"dataframe\">\n",
       "  <thead>\n",
       "    <tr style=\"text-align: right;\">\n",
       "      <th></th>\n",
       "      <th>NÚMERO-PROPOSIÇÃOSILEG</th>\n",
       "      <th>TxtAssunto</th>\n",
       "    </tr>\n",
       "  </thead>\n",
       "  <tbody>\n",
       "    <tr>\n",
       "      <th>0</th>\n",
       "      <td>PEC 151/2019</td>\n",
       "      <td>Solicito a consultoria elaboração de Projeto d...</td>\n",
       "    </tr>\n",
       "    <tr>\n",
       "      <th>1</th>\n",
       "      <td>PL 1036/2019</td>\n",
       "      <td>tese Conamat (arts. 545, 582 e 602 da CLT     ...</td>\n",
       "    </tr>\n",
       "    <tr>\n",
       "      <th>2</th>\n",
       "      <td>PL 1037/2019</td>\n",
       "      <td>art. 394-A da CLT - insalubridade trabalhadora...</td>\n",
       "    </tr>\n",
       "    <tr>\n",
       "      <th>3</th>\n",
       "      <td>PL 1075/2019</td>\n",
       "      <td>Solicito a analise do Projeto de Lei, anexo, p...</td>\n",
       "    </tr>\n",
       "    <tr>\n",
       "      <th>4</th>\n",
       "      <td>PL 1076/2019</td>\n",
       "      <td>Elaboração de Lei Federal que obrigue todos os...</td>\n",
       "    </tr>\n",
       "    <tr>\n",
       "      <th>...</th>\n",
       "      <td>...</td>\n",
       "      <td>...</td>\n",
       "    </tr>\n",
       "    <tr>\n",
       "      <th>290</th>\n",
       "      <td>PL 914/2019</td>\n",
       "      <td>Preparar Projeto de Lei para tratar da destina...</td>\n",
       "    </tr>\n",
       "    <tr>\n",
       "      <th>291</th>\n",
       "      <td>PL 927/2019</td>\n",
       "      <td>Obriga as instituições e  comércios a expor os...</td>\n",
       "    </tr>\n",
       "    <tr>\n",
       "      <th>292</th>\n",
       "      <td>PL 947/2019</td>\n",
       "      <td>SOLICITO A FEITURA DE UM PROJETO DE LEI QUE PE...</td>\n",
       "    </tr>\n",
       "    <tr>\n",
       "      <th>293</th>\n",
       "      <td>PL 993/2019</td>\n",
       "      <td>Solicito reelaboração do PL 10235/2018, para r...</td>\n",
       "    </tr>\n",
       "    <tr>\n",
       "      <th>294</th>\n",
       "      <td>PL 999/2019</td>\n",
       "      <td>Solicito a especial gentileza na elaboração de...</td>\n",
       "    </tr>\n",
       "  </tbody>\n",
       "</table>\n",
       "<p>295 rows × 2 columns</p>\n",
       "</div>"
      ],
      "text/plain": [
       "    NÚMERO-PROPOSIÇÃOSILEG                                         TxtAssunto\n",
       "0            PEC 151/2019   Solicito a consultoria elaboração de Projeto d...\n",
       "1            PL 1036/2019   tese Conamat (arts. 545, 582 e 602 da CLT     ...\n",
       "2            PL 1037/2019   art. 394-A da CLT - insalubridade trabalhadora...\n",
       "3            PL 1075/2019   Solicito a analise do Projeto de Lei, anexo, p...\n",
       "4            PL 1076/2019   Elaboração de Lei Federal que obrigue todos os...\n",
       "..                     ...                                                ...\n",
       "290          PL 914/2019    Preparar Projeto de Lei para tratar da destina...\n",
       "291          PL 927/2019    Obriga as instituições e  comércios a expor os...\n",
       "292          PL 947/2019    SOLICITO A FEITURA DE UM PROJETO DE LEI QUE PE...\n",
       "293          PL 993/2019    Solicito reelaboração do PL 10235/2018, para r...\n",
       "294          PL 999/2019    Solicito a especial gentileza na elaboração de...\n",
       "\n",
       "[295 rows x 2 columns]"
      ]
     },
     "execution_count": 5,
     "metadata": {},
     "output_type": "execute_result"
    }
   ],
   "source": [
    "df_assunto"
   ]
  },
  {
   "cell_type": "markdown",
   "id": "26e4dfc0",
   "metadata": {},
   "source": [
    "# 2. Teste\n",
    "\n",
    "Realizando comparação entre modelo com e sem tuning"
   ]
  },
  {
   "cell_type": "code",
   "execution_count": 7,
   "id": "fe1e2183",
   "metadata": {},
   "outputs": [
    {
     "name": "stderr",
     "output_type": "stream",
     "text": [
      "Asking to truncate to max_length but no maximum length is provided and the model has no predefined maximum length. Default to no truncation.\n",
      "Asking to truncate to max_length but no maximum length is provided and the model has no predefined maximum length. Default to no truncation.\n"
     ]
    }
   ],
   "source": [
    "corpus = df_2019[\"txtEmenta\"].to_numpy()\n",
    "corpus_embeddings_untuned = model_untuned.encode(corpus, convert_to_tensor=True)\n",
    "corpus_embeddings_tuned = model_tuned.encode(corpus, convert_to_tensor=True)\n",
    "\n",
    "queries = df_assunto[\"TxtAssunto\"].to_numpy()"
   ]
  },
  {
   "cell_type": "code",
   "execution_count": 8,
   "id": "a849ec51",
   "metadata": {},
   "outputs": [],
   "source": [
    "def get_name(df, doc, in_field=\"content\", out_field = \"name\"):\n",
    "    return str(df[df[in_field]==doc][out_field].to_numpy()[0]).strip()"
   ]
  },
  {
   "cell_type": "code",
   "execution_count": 9,
   "id": "539baf09",
   "metadata": {},
   "outputs": [
    {
     "name": "stdout",
     "output_type": "stream",
     "text": [
      "ERRO ao realizar encoding\n",
      "ERRO ao realizar encoding\n",
      "ERRO ao realizar encoding\n",
      "ERRO ao realizar encoding\n",
      "ERRO ao realizar encoding\n",
      "ERRO ao realizar encoding\n"
     ]
    }
   ],
   "source": [
    "top_k = 100\n",
    "res_vector_untuned = list()\n",
    "res_vector_tuned = list()\n",
    "for query in queries:\n",
    "    try:\n",
    "        query_embedding_untuned = model_untuned.encode(query, convert_to_tensor=True)\n",
    "        query_embedding_tuned = model_tuned.encode(query, convert_to_tensor=True)\n",
    "        \n",
    "        cos_scores_untuned = util.pytorch_cos_sim(query_embedding_untuned, corpus_embeddings_untuned)[0]\n",
    "        cos_scores_tuned = util.pytorch_cos_sim(query_embedding_tuned, corpus_embeddings_tuned)[0]\n",
    "        \n",
    "        top_results_untuned = torch.topk(cos_scores_untuned, k=top_k)\n",
    "        top_results_tuned = torch.topk(cos_scores_tuned, k=top_k)\n",
    "        \n",
    "        top_resuts_txt_untuned = [get_name(df_2019, txt, in_field=\"txtEmenta\", out_field=\"txtNome\").strip() for txt in corpus[top_results_untuned[1].numpy()]]\n",
    "        top_resuts_txt_tuned = [get_name(df_2019, txt, in_field=\"txtEmenta\", out_field=\"txtNome\").strip() for txt in corpus[top_results_tuned[1].numpy()]]\n",
    "        \n",
    "        res_vector_untuned.append([get_name(df_assunto, query, \"TxtAssunto\", \"NÚMERO-PROPOSIÇÃOSILEG\").strip(), top_resuts_txt_untuned])\n",
    "        res_vector_tuned.append([get_name(df_assunto, query, \"TxtAssunto\", \"NÚMERO-PROPOSIÇÃOSILEG\").strip(), top_resuts_txt_tuned])\n",
    "    except:\n",
    "        print(\"ERRO ao realizar encoding\")\n",
    "        pass"
   ]
  },
  {
   "cell_type": "code",
   "execution_count": 10,
   "id": "0b967cae",
   "metadata": {},
   "outputs": [
    {
     "name": "stdout",
     "output_type": "stream",
     "text": [
      "% queries processadas: 0.9796610169491525\n"
     ]
    }
   ],
   "source": [
    "print(f\"% queries processadas: {len(res_vector_untuned)/len(queries)}\")"
   ]
  },
  {
   "cell_type": "code",
   "execution_count": 13,
   "id": "f5bebbe7",
   "metadata": {},
   "outputs": [],
   "source": [
    "res_v_untuned = list()\n",
    "for k in range(top_k):\n",
    "    results = list()\n",
    "    for target, docs in res_vector_untuned:\n",
    "        if (target in docs[:k]):\n",
    "            results.append(1)\n",
    "        else:\n",
    "            results.append(0)\n",
    "    res_v_untuned.append(sum(results)/len(results))"
   ]
  },
  {
   "cell_type": "code",
   "execution_count": 12,
   "id": "cd2ad8fa",
   "metadata": {},
   "outputs": [],
   "source": [
    "res_v_tuned = list()\n",
    "for k in range(top_k):\n",
    "    results = list()\n",
    "    for target, docs in res_vector_tuned:\n",
    "        if (target in docs[:k]):\n",
    "            results.append(1)\n",
    "        else:\n",
    "            results.append(0)\n",
    "    res_v_tuned.append(sum(results)/len(results))"
   ]
  },
  {
   "cell_type": "code",
   "execution_count": 3,
   "id": "7df2ff9c",
   "metadata": {
    "scrolled": true
   },
   "outputs": [],
   "source": [
    "with open(\"bm25.npy\", \"rb\") as f:\n",
    "    bm25 = np.load(f)"
   ]
  },
  {
   "cell_type": "code",
   "execution_count": 23,
   "id": "2cc5e8d5",
   "metadata": {},
   "outputs": [
    {
     "data": {
      "image/png": "[encoded data removed]",
      "text/plain": [
       "<Figure size 1440x720 with 1 Axes>"
      ]
     },
     "metadata": {},
     "output_type": "display_data"
    }
   ],
   "source": [
    "import matplotlib.pyplot as plt\n",
    "import seaborn as sns\n",
    "sns.set()\n",
    "\n",
    "plt.figure(figsize=(20,10))\n",
    "plt.plot(np.arange(1,100), res_v_untuned[1:], label=\"SBERT (untuned)\")\n",
    "plt.plot(np.arange(1,100), res_v_tuned[1:], label=\"SBERT (tuned)\")\n",
    "plt.plot(np.arange(1,100), bm25, label=\"Okapi BM25\")\n",
    "\n",
    "plt.title(\"txtEmenta\")\n",
    "plt.legend()\n",
    "plt.xlabel(\"Top K Docs\")\n",
    "plt.ylabel(\"Target in Docs\")\n",
    "\n",
    "plt.show()"
   ]
  }
 ],
 "metadata": {
  "kernelspec": {
   "display_name": "Python 3",
   "language": "python",
   "name": "python3"
  },
  "language_info": {
   "codemirror_mode": {
    "name": "ipython",
    "version": 3
   },
   "file_extension": ".py",
   "mimetype": "text/x-python",
   "name": "python",
   "nbconvert_exporter": "python",
   "pygments_lexer": "ipython3",
   "version": "3.8.6"
  }
 },
 "nbformat": 4,
 "nbformat_minor": 5
}
